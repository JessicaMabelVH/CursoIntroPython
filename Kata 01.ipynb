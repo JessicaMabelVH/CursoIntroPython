{
 "cells": [
  {
   "cell_type": "markdown",
   "metadata": {},
   "source": [
    "# Kata 1\n",
    "## Tu primer programa"
   ]
  },
  {
   "cell_type": "code",
   "execution_count": 8,
   "metadata": {},
   "outputs": [
    {
     "name": "stdout",
     "output_type": "stream",
     "text": [
      "Today's date is: 2022-02-14\n",
      "Today's date is: 2022-02-14\n"
     ]
    }
   ],
   "source": [
    "# Importar la biblioteca \n",
    "from datetime import date\n",
    "\n",
    "# Mostrar la fecha en la consola\n",
    "# Aquí mi solución fue mostrar el mensaje como variables separadas.\n",
    "print(\"Today's date is:\", date.today())\n",
    "\n",
    "# Solución del módulo\n",
    "# Pero al concatenar manda un mensaje de error por lo que hay que convertir a texto. \n",
    "# print(\"Today's date is: \" + date.today())\n",
    "print(\"Today's date is: \" + str(date.today()))"
   ]
  },
  {
   "cell_type": "markdown",
   "metadata": {},
   "source": [
    "## Construir un convertidor de unidades"
   ]
  },
  {
   "cell_type": "code",
   "execution_count": 11,
   "metadata": {},
   "outputs": [
    {
     "name": "stdout",
     "output_type": "stream",
     "text": [
      "11 parsec is 35.877159999999996 light years\n"
     ]
    }
   ],
   "source": [
    "# Datos\n",
    "parsec = 11\n",
    "lightyears = 0\n",
    "\n",
    "# Operación\n",
    "# 1 parsec = 3.26156 años luz\n",
    "# Realizamos una regla de 3 (pero al ser divido siempre por 1 podemos dejar solo la multiplicación).\n",
    "lightyears = parsec * 3.26156\n",
    "\n",
    "# Mostramos en consola\n",
    "print(str(parsec) + \" parsec is \" + str(lightyears) + \" light years\")"
   ]
  }
 ],
 "metadata": {
  "interpreter": {
   "hash": "006d7ed8d707d3ee782307c086dfe60747e57ca9673baffdc2a60203fe429793"
  },
  "kernelspec": {
   "display_name": "Python 3.10.2 64-bit",
   "language": "python",
   "name": "python3"
  },
  "language_info": {
   "codemirror_mode": {
    "name": "ipython",
    "version": 3
   },
   "file_extension": ".py",
   "mimetype": "text/x-python",
   "name": "python",
   "nbconvert_exporter": "python",
   "pygments_lexer": "ipython3",
   "version": "3.10.2"
  },
  "orig_nbformat": 4
 },
 "nbformat": 4,
 "nbformat_minor": 2
}
