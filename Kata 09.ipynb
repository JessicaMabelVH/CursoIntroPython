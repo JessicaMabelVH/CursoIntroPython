{
  "cells": [
    {
      "cell_type": "markdown",
      "metadata": {},
      "source": [
        "# Ejercicio: Uso de funciones en Python"
      ]
    },
    {
      "cell_type": "markdown",
      "metadata": {},
      "source": [
        "### Ejercicio 1: Trabajar con argumentos en funciones\n",
        "\n",
        "Los argumentos requeridos en las funciones se utilizan cuando las funciones necesitan que esos argumentos funcionen correctamente. En este ejercicio, construirás un informe de combustible que requiere información de varias ubicaciones de combustible en todo el cohete.\n",
        "\n"
      ]
    },
    {
      "cell_type": "markdown",
      "metadata": {},
      "source": [
        "> **TIP**\n",
        "> Dedica unos minutos para tratar de encontrar una solución. Luego desplázate hacia abajo hasta la parte inferior para ver si has logrado compilar el programa de acuerdo con las especificaciones\n",
        "\n",
        "Comienza por crear una función que necesite tres lecturas de combustible y devuelva un informe:"
      ]
    },
    {
      "cell_type": "code",
      "execution_count": 729,
      "metadata": {},
      "outputs": [
        {
          "name": "stdout",
          "output_type": "stream",
          "text": [
            "    FUEL TANK REPORT:\n",
            "-----------------------------------------\n",
            "    Capacity of the tank 1: \t50 %\n",
            "    Capacity of the tank 2: \t20 %\n",
            "    Capacity of the tank 3: \t31 %\n",
            "-----------------------------------------\n",
            "    Total Average: \t\t33.67 %\n",
            "    \n"
          ]
        }
      ],
      "source": [
        "# Función para leer 3 tanques de combustible y muestre el promedio\n",
        "\n",
        "\n",
        "def fuel_report(tank1, tank2, tank3):\n",
        "    fuel_average = (tank1 + tank2 + tank3) / 3\n",
        "    return f'''    FUEL TANK REPORT:\n",
        "-----------------------------------------\n",
        "    Capacity of the tank 1: \\t{tank1} %\n",
        "    Capacity of the tank 2: \\t{tank2} %\n",
        "    Capacity of the tank 3: \\t{tank3} %\n",
        "-----------------------------------------\n",
        "    Total Average: \\t\\t{round(fuel_average, 2)} %\n",
        "    '''\n",
        "\n",
        "print(fuel_report(50,20,31))\n"
      ]
    },
    {
      "cell_type": "markdown",
      "metadata": {},
      "source": [
        "Ahora que hemos definido la función de informes, vamos a comprobarlo. Para esta misión, los tanques no están llenos:"
      ]
    },
    {
      "cell_type": "code",
      "execution_count": 730,
      "metadata": {},
      "outputs": [
        {
          "name": "stdout",
          "output_type": "stream",
          "text": [
            "    FUEL TANK REPORT:\n",
            "-----------------------------------------\n",
            "    Capacity of the tank 1: \t12 %\n",
            "    Capacity of the tank 2: \t70 %\n",
            "    Capacity of the tank 3: \t52 %\n",
            "-----------------------------------------\n",
            "    Total Average: \t\t44.67 %\n",
            "    \n"
          ]
        }
      ],
      "source": [
        "\n",
        "# Llamamos a la función que genera el reporte print(funcion(tanque1, tanque2, tanque3))\n",
        "\n",
        "print(fuel_report(12,70,52))"
      ]
    },
    {
      "cell_type": "markdown",
      "metadata": {},
      "source": [
        "En lugar de simplemente crear el informe, la función también está calculando el promedio. Mejora la legibilidad extrayendo el cálculo promedio de la función en una nueva función para que el promedio se pueda hacer de forma independiente:"
      ]
    },
    {
      "cell_type": "code",
      "execution_count": 731,
      "metadata": {},
      "outputs": [],
      "source": [
        "# Función promedio \n",
        "def fuel_total_average(*a):\n",
        "    fuel_average = sum(a)/3\n",
        "    return round(fuel_average, 2)\n"
      ]
    },
    {
      "cell_type": "markdown",
      "metadata": {},
      "source": [
        "Ahora actualiza la función de informes para llamando a la nueva función del promedio:\n"
      ]
    },
    {
      "cell_type": "code",
      "execution_count": 732,
      "metadata": {},
      "outputs": [
        {
          "name": "stdout",
          "output_type": "stream",
          "text": [
            "    FUEL TANK REPORT:\n",
            "-----------------------------------------\n",
            "    Capacity of the tank 1: \t50 %\n",
            "    Capacity of the tank 2: \t20 %\n",
            "    Capacity of the tank 3: \t31 %\n",
            "-----------------------------------------\n",
            "    Total Average: \t\t33.67 %\n",
            "    \n"
          ]
        }
      ],
      "source": [
        "# Actualiza la función\n",
        "\n",
        "def fuel_report(tank1, tank2, tank3):\n",
        "    return f'''    FUEL TANK REPORT:\n",
        "-----------------------------------------\n",
        "    Capacity of the tank 1: \\t{tank1} %\n",
        "    Capacity of the tank 2: \\t{tank2} %\n",
        "    Capacity of the tank 3: \\t{tank3} %\n",
        "-----------------------------------------\n",
        "    Total Average: \\t\\t{fuel_total_average(tank1, tank2, tank3)} %\n",
        "    '''\n",
        "\n",
        "print(fuel_report(50,20,31))\n"
      ]
    },
    {
      "cell_type": "markdown",
      "metadata": {},
      "source": [
        "> Recuerda: Lo importante es intentarlo, puedes auxiliarte de internet, libros, etc. El objetivo de una kata es la comprobación de la comprensión de la lección y su aplicación inmediata a la resolución de problemas. Go for it!"
      ]
    },
    {
      "cell_type": "markdown",
      "metadata": {},
      "source": [
        "## Ejercicio 2: Trabajo con argumentos de palabra clave"
      ]
    },
    {
      "cell_type": "markdown",
      "metadata": {},
      "source": [
        "### Ejercicio : Trabajar con argumentos de palabras clave en funciones\n",
        "En este ejercicio, construirás un informe de cohete que requiere varias piezas de información, como el tiempo hasta el destino, el combustible a la izquierda y el nombre del destino. Comienza por crear una función que creará un informe preciso de la misión:"
      ]
    },
    {
      "cell_type": "code",
      "execution_count": 733,
      "metadata": {},
      "outputs": [
        {
          "name": "stdout",
          "output_type": "stream",
          "text": [
            "    MISSION ROCKET REPORT:\n",
            "--------------------------------------------------------\n",
            "    Arrival target: \t\t\tMars\n",
            "    Time to arrive at destination: \t162 min\n",
            "    Fuel left in tanks: \t\t78,510 L\n",
            "    \n"
          ]
        }
      ],
      "source": [
        "# Función con un informe preciso de la misión. Considera hora de prelanzamiento, tiempo de vuelo, destino, tanque externo y tanque interno\n",
        "\n",
        "def rocket_report(prelaunch_time, flight_time, destination, external_tank, internal_tank):\n",
        "    return f'''    MISSION ROCKET REPORT:\n",
        "--------------------------------------------------------\n",
        "    Arrival target: \\t\\t\\t{destination}\n",
        "    Time to arrive at destination: \\t{prelaunch_time+flight_time} min\n",
        "    Fuel left in tanks: \\t\\t{round(external_tank+internal_tank):,} L\n",
        "    '''\n",
        "\n",
        "print(rocket_report(5,157,'Mars',20506, 58004))\n",
        "\n"
      ]
    },
    {
      "cell_type": "markdown",
      "metadata": {},
      "source": [
        "La función es problemática porque no se puede adaptar para minutos adicionales o tanques adicionales de combustible. Hazlo más flexible permitiendo cualquier número de pasos basados en el tiempo y cualquier número de tanques. En lugar de usar `*args` y `**kwargs`, aprovecha el hecho de que puedes usar cualquier nombre que desees. Asegurate que la función sea más legible mediante el uso de nombres de variables que están asociados con las entradas, como `*minutes` y `**fuel_reservoirs`:"
      ]
    },
    {
      "cell_type": "code",
      "execution_count": 734,
      "metadata": {},
      "outputs": [
        {
          "name": "stdout",
          "output_type": "stream",
          "text": [
            "    MISSION ROCKET REPORT:\n",
            "--------------------------------------------------------\n",
            "    Arrival target: \t\t\tMars\n",
            "    Time to arrive at destination: \t165 min\n",
            "    Fuel left in tanks: \t\t935,110.7 L\n",
            "    \n"
          ]
        }
      ],
      "source": [
        "# Escribe tu nueva función de reporte considerando lo anterior\n",
        "# Función con un informe preciso de la misión. Considera hora de prelanzamiento, tiempo de vuelo, destino, tanque externo y tanque interno\n",
        "\n",
        "def rocket_report_2(destination, *minutes, **fuel_reservoirs):\n",
        "    return f'''    MISSION ROCKET REPORT:\n",
        "--------------------------------------------------------\n",
        "    Arrival target: \\t\\t\\t{destination}\n",
        "    Time to arrive at destination: \\t{sum(minutes)} min\n",
        "    Fuel left in tanks: \\t\\t{round(sum(fuel_reservoirs.values()), 2):,} L\n",
        "    '''\n",
        "\n",
        "print(rocket_report_2('Mars', 5, 157, 3, internal=205062.1235, external=580048.5799, support=100000, emergency=50000))"
      ]
    },
    {
      "cell_type": "markdown",
      "metadata": {},
      "source": [
        "Debido a que el combustible que queda en los tanques es específico de cada tanque, actualiza la función para usar el nombre de cada tanque en el informe:"
      ]
    },
    {
      "cell_type": "code",
      "execution_count": 735,
      "metadata": {},
      "outputs": [
        {
          "name": "stdout",
          "output_type": "stream",
          "text": [
            "    MISSION ROCKET REPORT:\n",
            "--------------------------------------------------------------\n",
            "    Arrival target: \t\t\tMars\n",
            "    Time to arrive at destination: \t165 min\n",
            "    Total fuel left in tanks: \t\t935,110.7 L\n",
            "    \n",
            "\tTank type \t\t\tFuel left\n",
            "    \t─ Internal:\t\t\t205,062.12 L\n",
            "\t─ External:\t\t\t580,048.58 L\n",
            "\t─ Support:\t\t\t100,000 L\n",
            "\t─ Emergency:\t\t\t50,000 L\n",
            "\n"
          ]
        }
      ],
      "source": [
        "# Escribe tu nueva función\n",
        "\n",
        "def rocket_report_3(destination, *minutes, **fuel_reservoirs):\n",
        "    to_report = f'''    MISSION ROCKET REPORT:\n",
        "--------------------------------------------------------------\n",
        "    Arrival target: \\t\\t\\t{destination}\n",
        "    Time to arrive at destination: \\t{sum(minutes)} min\n",
        "    Total fuel left in tanks: \\t\\t{round(sum(fuel_reservoirs.values()), 2):,} L\n",
        "    \\n\\tTank type \\t\\t\\tFuel left\n",
        "    '''\n",
        "    for tank, fuel in fuel_reservoirs.items():\n",
        "        to_report+=f'\\t─ {tank.capitalize()}:\\t\\t\\t{round(fuel, 2):,} L\\n'\n",
        "    return to_report    \n",
        "\n",
        "print(rocket_report_3('Mars', 5, 157, 3, internal=205062.1235, external=580048.5799, support=100000, emergency=50000))"
      ]
    },
    {
      "cell_type": "markdown",
      "metadata": {},
      "source": [
        "## Soluciones"
      ]
    },
    {
      "cell_type": "markdown",
      "metadata": {},
      "source": [
        "## Ejercicio 1"
      ]
    },
    {
      "cell_type": "markdown",
      "metadata": {},
      "source": [
        "```python\n",
        "# Función para leer 3 tanques de combustible y muestre el promedio\n",
        "\n",
        "def generate_report(main_tank, external_tank, hydrogen_tank):\n",
        "    total_average = (main_tank + external_tank + hydrogen_tank) / 3\n",
        "    return f\"\"\"Fuel Report:\n",
        "    Total Average: {total_average}%\n",
        "    Main tank: {main_tank}%\n",
        "    External tank: {external_tank}%\n",
        "    Hydrogen tank: {hydrogen_tank}% \n",
        "    \"\"\"\n",
        "```"
      ]
    },
    {
      "cell_type": "markdown",
      "metadata": {},
      "source": [
        "```python\n",
        "# Llamamos a la función que genera el reporte print(funcion(tanque1, tanque2, tanque3))\n",
        "print(generate_report(80, 70, 85))\n",
        "```"
      ]
    },
    {
      "cell_type": "markdown",
      "metadata": {},
      "source": [
        "```python\n",
        "# Función promedio \n",
        "def average(values):\n",
        "    total = sum(values)\n",
        "    number_of_items = len(values)\n",
        "    return total / number_of_items\n",
        "\n",
        "# Test the averaging function with a list of integers:\n",
        "average([80, 85, 81])\n",
        "```"
      ]
    },
    {
      "cell_type": "markdown",
      "metadata": {},
      "source": [
        "```python\n",
        "# Actualiza la función\n",
        "def generate_report(main_tank, external_tank, hydrogen_tank):\n",
        "    return f\"\"\"Fuel Report:\n",
        "    Total Average: {average([main_tank, external_tank, hydrogen_tank])}%\n",
        "    Main tank: {main_tank}%\n",
        "    External tank: {external_tank}%\n",
        "    Hydrogen tank: {hydrogen_tank}% \n",
        "    \"\"\"\n",
        "\n",
        "# Call the updated function again with different values\n",
        "print(generate_report(88, 76, 70)\n",
        ")```"
      ]
    },
    {
      "cell_type": "markdown",
      "metadata": {},
      "source": [
        "### Ejercicio 2:"
      ]
    },
    {
      "cell_type": "markdown",
      "metadata": {},
      "source": [
        "```python\n",
        "# Función con un informe preciso de la misión. Considera hora de prelanzamiento, tiempo de vuelo, destino, tanque externo y tanque interno\n",
        "\n",
        "def mission_report(pre_launch_time, flight_time, destination, external_tank, main_tank):\n",
        "    return f\"\"\"\n",
        "    Mission to {destination}\n",
        "    Total travel time: {pre_launch_time + flight_time} minutes\n",
        "    Total fuel left: {external_tank + main_tank} gallons\n",
        "    \"\"\"\n",
        "\n",
        "print(mission_report(14, 51, \"Moon\", 200000, 300000))\n",
        "```"
      ]
    },
    {
      "cell_type": "markdown",
      "metadata": {},
      "source": [
        "```python\n",
        "# Escribe tu nueva función de reporte considerando lo anterior\n",
        "\n",
        "def mission_report(destination, *minutes, **fuel_reservoirs):\n",
        "    return f\"\"\"\n",
        "    Mission to {destination}\n",
        "    Total travel time: {sum(minutes)} minutes\n",
        "    Total fuel left: {sum(fuel_reservoirs.values())}\n",
        "    \"\"\"\n",
        "\n",
        "print(mission_report(\"Moon\", 10, 15, 51, main=300000, external=200000))\n",
        "```"
      ]
    },
    {
      "cell_type": "markdown",
      "metadata": {},
      "source": [
        "```python\n",
        "# Escribe tu nueva función\n",
        "\n",
        "def mission_report(destination, *minutes, **fuel_reservoirs):\n",
        "    main_report = f\"\"\"\n",
        "    Mission to {destination}\n",
        "    Total travel time: {sum(minutes)} minutes\n",
        "    Total fuel left: {sum(fuel_reservoirs.values())}\n",
        "    \"\"\"\n",
        "    for tank_name, gallons in fuel_reservoirs.items():\n",
        "        main_report += f\"{tank_name} tank --> {gallons} gallons left\\n\"\n",
        "    return main_report\n",
        "\n",
        "print(mission_report(\"Moon\", 8, 11, 55, main=300000, external=200000))\n",
        "```"
      ]
    },
    {
      "cell_type": "markdown",
      "metadata": {},
      "source": [
        "---\n",
        "\n",
        "Curso Propedútico de Python para Launch X - Innovacción Virtual.\n",
        "\n",
        "Material desarrollado con base en los contenidos de MSLearn y la metáfora de LaunchX, traducción e implementación por: Fernanda Ochoa - Learning Producer de LaunchX.\n",
        "\n",
        "Redes:\n",
        "* GitHub: [FernandaOchoa](https://github.com/FernandaOchoa)\n",
        "* Twitter: [@imonsh](https://twitter.com/imonsh)\n",
        "* Instagram: [fherz8a](https://www.instagram.com/fherz8a/)"
      ]
    }
  ],
  "metadata": {
    "interpreter": {
      "hash": "205095b8b86ea82a021a8fc2ffba2b3bc9f8d0be25999901963b225939f75778"
    },
    "kernelspec": {
      "display_name": "Python 3.8.10 64-bit ('tmp': conda)",
      "name": "python3"
    },
    "language_info": {
      "codemirror_mode": {
        "name": "ipython",
        "version": 3
      },
      "file_extension": ".py",
      "mimetype": "text/x-python",
      "name": "python",
      "nbconvert_exporter": "python",
      "pygments_lexer": "ipython3",
      "version": "3.10.2"
    },
    "nteract": {
      "version": "nteract-front-end@1.0.0"
    },
    "orig_nbformat": 4
  },
  "nbformat": 4,
  "nbformat_minor": 2
}
